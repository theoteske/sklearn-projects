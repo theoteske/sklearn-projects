{
 "cells": [
  {
   "cell_type": "markdown",
   "id": "f0bcdee8",
   "metadata": {},
   "source": [
    "# Introduction\n",
    "\n",
    "In this notebook, we aim to predict the price of an Uber fare given minimal initial information. The data can be found on Kaggle at the link <https://www.kaggle.com/datasets/yasserh/uber-fares-dataset/>. \n",
    "\n",
    "The focus of this project is meticulous and in-depth feature engineering; after all, a model can only be as good as the data it was trained on. "
   ]
  },
  {
   "cell_type": "markdown",
   "id": "c2517955",
   "metadata": {},
   "source": [
    "# Data Cleaning and Feature Extraction\n",
    "\n",
    "We begin by loading in and inspecting the dataset."
   ]
  },
  {
   "cell_type": "code",
   "execution_count": 165,
   "id": "43bf7734",
   "metadata": {},
   "outputs": [
    {
     "data": {
      "text/html": [
       "<div>\n",
       "<style scoped>\n",
       "    .dataframe tbody tr th:only-of-type {\n",
       "        vertical-align: middle;\n",
       "    }\n",
       "\n",
       "    .dataframe tbody tr th {\n",
       "        vertical-align: top;\n",
       "    }\n",
       "\n",
       "    .dataframe thead th {\n",
       "        text-align: right;\n",
       "    }\n",
       "</style>\n",
       "<table border=\"1\" class=\"dataframe\">\n",
       "  <thead>\n",
       "    <tr style=\"text-align: right;\">\n",
       "      <th></th>\n",
       "      <th>key</th>\n",
       "      <th>fare_amount</th>\n",
       "      <th>pickup_datetime</th>\n",
       "      <th>pickup_longitude</th>\n",
       "      <th>pickup_latitude</th>\n",
       "      <th>dropoff_longitude</th>\n",
       "      <th>dropoff_latitude</th>\n",
       "      <th>passenger_count</th>\n",
       "    </tr>\n",
       "  </thead>\n",
       "  <tbody>\n",
       "    <tr>\n",
       "      <th>0</th>\n",
       "      <td>2009-06-15 17:26:21.0000001</td>\n",
       "      <td>4.5</td>\n",
       "      <td>2009-06-15 17:26:21 UTC</td>\n",
       "      <td>-73.844311</td>\n",
       "      <td>40.721319</td>\n",
       "      <td>-73.841610</td>\n",
       "      <td>40.712278</td>\n",
       "      <td>1</td>\n",
       "    </tr>\n",
       "    <tr>\n",
       "      <th>1</th>\n",
       "      <td>2010-01-05 16:52:16.0000002</td>\n",
       "      <td>16.9</td>\n",
       "      <td>2010-01-05 16:52:16 UTC</td>\n",
       "      <td>-74.016048</td>\n",
       "      <td>40.711303</td>\n",
       "      <td>-73.979268</td>\n",
       "      <td>40.782004</td>\n",
       "      <td>1</td>\n",
       "    </tr>\n",
       "    <tr>\n",
       "      <th>2</th>\n",
       "      <td>2011-08-18 00:35:00.00000049</td>\n",
       "      <td>5.7</td>\n",
       "      <td>2011-08-18 00:35:00 UTC</td>\n",
       "      <td>-73.982738</td>\n",
       "      <td>40.761270</td>\n",
       "      <td>-73.991242</td>\n",
       "      <td>40.750562</td>\n",
       "      <td>2</td>\n",
       "    </tr>\n",
       "    <tr>\n",
       "      <th>3</th>\n",
       "      <td>2012-04-21 04:30:42.0000001</td>\n",
       "      <td>7.7</td>\n",
       "      <td>2012-04-21 04:30:42 UTC</td>\n",
       "      <td>-73.987130</td>\n",
       "      <td>40.733143</td>\n",
       "      <td>-73.991567</td>\n",
       "      <td>40.758092</td>\n",
       "      <td>1</td>\n",
       "    </tr>\n",
       "    <tr>\n",
       "      <th>4</th>\n",
       "      <td>2010-03-09 07:51:00.000000135</td>\n",
       "      <td>5.3</td>\n",
       "      <td>2010-03-09 07:51:00 UTC</td>\n",
       "      <td>-73.968095</td>\n",
       "      <td>40.768008</td>\n",
       "      <td>-73.956655</td>\n",
       "      <td>40.783762</td>\n",
       "      <td>1</td>\n",
       "    </tr>\n",
       "    <tr>\n",
       "      <th>5</th>\n",
       "      <td>2011-01-06 09:50:45.0000002</td>\n",
       "      <td>12.1</td>\n",
       "      <td>2011-01-06 09:50:45 UTC</td>\n",
       "      <td>-74.000964</td>\n",
       "      <td>40.731630</td>\n",
       "      <td>-73.972892</td>\n",
       "      <td>40.758233</td>\n",
       "      <td>1</td>\n",
       "    </tr>\n",
       "    <tr>\n",
       "      <th>6</th>\n",
       "      <td>2012-11-20 20:35:00.0000001</td>\n",
       "      <td>7.5</td>\n",
       "      <td>2012-11-20 20:35:00 UTC</td>\n",
       "      <td>-73.980002</td>\n",
       "      <td>40.751662</td>\n",
       "      <td>-73.973802</td>\n",
       "      <td>40.764842</td>\n",
       "      <td>1</td>\n",
       "    </tr>\n",
       "    <tr>\n",
       "      <th>7</th>\n",
       "      <td>2012-01-04 17:22:00.00000081</td>\n",
       "      <td>16.5</td>\n",
       "      <td>2012-01-04 17:22:00 UTC</td>\n",
       "      <td>-73.951300</td>\n",
       "      <td>40.774138</td>\n",
       "      <td>-73.990095</td>\n",
       "      <td>40.751048</td>\n",
       "      <td>1</td>\n",
       "    </tr>\n",
       "    <tr>\n",
       "      <th>8</th>\n",
       "      <td>2012-12-03 13:10:00.000000125</td>\n",
       "      <td>9.0</td>\n",
       "      <td>2012-12-03 13:10:00 UTC</td>\n",
       "      <td>-74.006462</td>\n",
       "      <td>40.726713</td>\n",
       "      <td>-73.993078</td>\n",
       "      <td>40.731628</td>\n",
       "      <td>1</td>\n",
       "    </tr>\n",
       "    <tr>\n",
       "      <th>9</th>\n",
       "      <td>2009-09-02 01:11:00.00000083</td>\n",
       "      <td>8.9</td>\n",
       "      <td>2009-09-02 01:11:00 UTC</td>\n",
       "      <td>-73.980658</td>\n",
       "      <td>40.733873</td>\n",
       "      <td>-73.991540</td>\n",
       "      <td>40.758138</td>\n",
       "      <td>2</td>\n",
       "    </tr>\n",
       "  </tbody>\n",
       "</table>\n",
       "</div>"
      ],
      "text/plain": [
       "                             key  fare_amount          pickup_datetime   \n",
       "0    2009-06-15 17:26:21.0000001          4.5  2009-06-15 17:26:21 UTC  \\\n",
       "1    2010-01-05 16:52:16.0000002         16.9  2010-01-05 16:52:16 UTC   \n",
       "2   2011-08-18 00:35:00.00000049          5.7  2011-08-18 00:35:00 UTC   \n",
       "3    2012-04-21 04:30:42.0000001          7.7  2012-04-21 04:30:42 UTC   \n",
       "4  2010-03-09 07:51:00.000000135          5.3  2010-03-09 07:51:00 UTC   \n",
       "5    2011-01-06 09:50:45.0000002         12.1  2011-01-06 09:50:45 UTC   \n",
       "6    2012-11-20 20:35:00.0000001          7.5  2012-11-20 20:35:00 UTC   \n",
       "7   2012-01-04 17:22:00.00000081         16.5  2012-01-04 17:22:00 UTC   \n",
       "8  2012-12-03 13:10:00.000000125          9.0  2012-12-03 13:10:00 UTC   \n",
       "9   2009-09-02 01:11:00.00000083          8.9  2009-09-02 01:11:00 UTC   \n",
       "\n",
       "   pickup_longitude  pickup_latitude  dropoff_longitude  dropoff_latitude   \n",
       "0        -73.844311        40.721319         -73.841610         40.712278  \\\n",
       "1        -74.016048        40.711303         -73.979268         40.782004   \n",
       "2        -73.982738        40.761270         -73.991242         40.750562   \n",
       "3        -73.987130        40.733143         -73.991567         40.758092   \n",
       "4        -73.968095        40.768008         -73.956655         40.783762   \n",
       "5        -74.000964        40.731630         -73.972892         40.758233   \n",
       "6        -73.980002        40.751662         -73.973802         40.764842   \n",
       "7        -73.951300        40.774138         -73.990095         40.751048   \n",
       "8        -74.006462        40.726713         -73.993078         40.731628   \n",
       "9        -73.980658        40.733873         -73.991540         40.758138   \n",
       "\n",
       "   passenger_count  \n",
       "0                1  \n",
       "1                1  \n",
       "2                2  \n",
       "3                1  \n",
       "4                1  \n",
       "5                1  \n",
       "6                1  \n",
       "7                1  \n",
       "8                1  \n",
       "9                2  "
      ]
     },
     "execution_count": 165,
     "metadata": {},
     "output_type": "execute_result"
    }
   ],
   "source": [
    "import pandas as pd\n",
    "\n",
    "#read in dataset\n",
    "uber = pd.read_csv('uber_fare_prediction.csv')\n",
    "\n",
    "#look at first few rows of dataset\n",
    "uber.head(10)"
   ]
  },
  {
   "cell_type": "code",
   "execution_count": 166,
   "id": "8d53b297",
   "metadata": {},
   "outputs": [
    {
     "name": "stdout",
     "output_type": "stream",
     "text": [
      "<class 'pandas.core.frame.DataFrame'>\n",
      "RangeIndex: 200000 entries, 0 to 199999\n",
      "Data columns (total 8 columns):\n",
      " #   Column             Non-Null Count   Dtype  \n",
      "---  ------             --------------   -----  \n",
      " 0   key                200000 non-null  object \n",
      " 1   fare_amount        200000 non-null  float64\n",
      " 2   pickup_datetime    200000 non-null  object \n",
      " 3   pickup_longitude   200000 non-null  float64\n",
      " 4   pickup_latitude    200000 non-null  float64\n",
      " 5   dropoff_longitude  199999 non-null  float64\n",
      " 6   dropoff_latitude   199999 non-null  float64\n",
      " 7   passenger_count    200000 non-null  int64  \n",
      "dtypes: float64(5), int64(1), object(2)\n",
      "memory usage: 12.2+ MB\n"
     ]
    }
   ],
   "source": [
    "#look at datatype of each column\n",
    "uber.info()"
   ]
  },
  {
   "cell_type": "markdown",
   "id": "57291227",
   "metadata": {},
   "source": [
    "We will first remove the `key` column, as this is a unique identifier and therefore does not contain useful information. Next, because there are very few non-null values, we will simply drop the rows which contain a null value."
   ]
  },
  {
   "cell_type": "code",
   "execution_count": 167,
   "id": "eb322b4e",
   "metadata": {},
   "outputs": [],
   "source": [
    "#remove key column\n",
    "uber = uber.iloc[:, 1:]\n",
    "\n",
    "#drop rows which contain NA\n",
    "uber.dropna(axis=0, inplace=True)"
   ]
  },
  {
   "cell_type": "markdown",
   "id": "ab220be3",
   "metadata": {},
   "source": [
    "We want to extract useful features from the `pickup_datetime` column. To do so, we can first split the column into two features, one containing the date and the other containing the time of day."
   ]
  },
  {
   "cell_type": "code",
   "execution_count": 168,
   "id": "c764c723",
   "metadata": {},
   "outputs": [],
   "source": [
    "#create new pickup_date and pickup_time features\n",
    "uber[['pickup_date', 'pickup_time', 'garb']] = uber.pickup_datetime.str.split(pat=' ', expand=True)\n",
    "\n",
    "#drop pickup_datetime column, no longer need it\n",
    "uber.drop(labels=['pickup_datetime', 'garb'], axis=1, inplace=True)"
   ]
  },
  {
   "cell_type": "markdown",
   "id": "59a148ae",
   "metadata": {},
   "source": [
    "We now import a new dataset which contains all of the holidays in the United States from 2004-2021, available on Kaggle at <https://www.kaggle.com/datasets/donnetew/us-holiday-dates-2004-2021>. Then, we will perform a left merge with our current dataframe in order to determine which rides occurred on a holiday."
   ]
  },
  {
   "cell_type": "code",
   "execution_count": 169,
   "id": "0df439e5",
   "metadata": {},
   "outputs": [
    {
     "data": {
      "text/html": [
       "<div>\n",
       "<style scoped>\n",
       "    .dataframe tbody tr th:only-of-type {\n",
       "        vertical-align: middle;\n",
       "    }\n",
       "\n",
       "    .dataframe tbody tr th {\n",
       "        vertical-align: top;\n",
       "    }\n",
       "\n",
       "    .dataframe thead th {\n",
       "        text-align: right;\n",
       "    }\n",
       "</style>\n",
       "<table border=\"1\" class=\"dataframe\">\n",
       "  <thead>\n",
       "    <tr style=\"text-align: right;\">\n",
       "      <th></th>\n",
       "      <th>Date</th>\n",
       "      <th>Holiday</th>\n",
       "      <th>WeekDay</th>\n",
       "      <th>Month</th>\n",
       "      <th>Day</th>\n",
       "      <th>Year</th>\n",
       "    </tr>\n",
       "  </thead>\n",
       "  <tbody>\n",
       "    <tr>\n",
       "      <th>0</th>\n",
       "      <td>2004-07-04</td>\n",
       "      <td>4th of July</td>\n",
       "      <td>Sunday</td>\n",
       "      <td>7</td>\n",
       "      <td>4</td>\n",
       "      <td>2004</td>\n",
       "    </tr>\n",
       "    <tr>\n",
       "      <th>1</th>\n",
       "      <td>2005-07-04</td>\n",
       "      <td>4th of July</td>\n",
       "      <td>Monday</td>\n",
       "      <td>7</td>\n",
       "      <td>4</td>\n",
       "      <td>2005</td>\n",
       "    </tr>\n",
       "    <tr>\n",
       "      <th>2</th>\n",
       "      <td>2006-07-04</td>\n",
       "      <td>4th of July</td>\n",
       "      <td>Tuesday</td>\n",
       "      <td>7</td>\n",
       "      <td>4</td>\n",
       "      <td>2006</td>\n",
       "    </tr>\n",
       "    <tr>\n",
       "      <th>3</th>\n",
       "      <td>2007-07-04</td>\n",
       "      <td>4th of July</td>\n",
       "      <td>Wednesday</td>\n",
       "      <td>7</td>\n",
       "      <td>4</td>\n",
       "      <td>2007</td>\n",
       "    </tr>\n",
       "    <tr>\n",
       "      <th>4</th>\n",
       "      <td>2008-07-04</td>\n",
       "      <td>4th of July</td>\n",
       "      <td>Friday</td>\n",
       "      <td>7</td>\n",
       "      <td>4</td>\n",
       "      <td>2008</td>\n",
       "    </tr>\n",
       "    <tr>\n",
       "      <th>5</th>\n",
       "      <td>2009-07-04</td>\n",
       "      <td>4th of July</td>\n",
       "      <td>Saturday</td>\n",
       "      <td>7</td>\n",
       "      <td>4</td>\n",
       "      <td>2009</td>\n",
       "    </tr>\n",
       "    <tr>\n",
       "      <th>6</th>\n",
       "      <td>2010-07-04</td>\n",
       "      <td>4th of July</td>\n",
       "      <td>Sunday</td>\n",
       "      <td>7</td>\n",
       "      <td>4</td>\n",
       "      <td>2010</td>\n",
       "    </tr>\n",
       "    <tr>\n",
       "      <th>7</th>\n",
       "      <td>2011-07-04</td>\n",
       "      <td>4th of July</td>\n",
       "      <td>Monday</td>\n",
       "      <td>7</td>\n",
       "      <td>4</td>\n",
       "      <td>2011</td>\n",
       "    </tr>\n",
       "    <tr>\n",
       "      <th>8</th>\n",
       "      <td>2012-07-04</td>\n",
       "      <td>4th of July</td>\n",
       "      <td>Wednesday</td>\n",
       "      <td>7</td>\n",
       "      <td>4</td>\n",
       "      <td>2012</td>\n",
       "    </tr>\n",
       "    <tr>\n",
       "      <th>9</th>\n",
       "      <td>2013-07-04</td>\n",
       "      <td>4th of July</td>\n",
       "      <td>Thursday</td>\n",
       "      <td>7</td>\n",
       "      <td>4</td>\n",
       "      <td>2013</td>\n",
       "    </tr>\n",
       "  </tbody>\n",
       "</table>\n",
       "</div>"
      ],
      "text/plain": [
       "         Date      Holiday    WeekDay  Month  Day  Year\n",
       "0  2004-07-04  4th of July     Sunday      7    4  2004\n",
       "1  2005-07-04  4th of July     Monday      7    4  2005\n",
       "2  2006-07-04  4th of July    Tuesday      7    4  2006\n",
       "3  2007-07-04  4th of July  Wednesday      7    4  2007\n",
       "4  2008-07-04  4th of July     Friday      7    4  2008\n",
       "5  2009-07-04  4th of July   Saturday      7    4  2009\n",
       "6  2010-07-04  4th of July     Sunday      7    4  2010\n",
       "7  2011-07-04  4th of July     Monday      7    4  2011\n",
       "8  2012-07-04  4th of July  Wednesday      7    4  2012\n",
       "9  2013-07-04  4th of July   Thursday      7    4  2013"
      ]
     },
     "execution_count": 169,
     "metadata": {},
     "output_type": "execute_result"
    }
   ],
   "source": [
    "#read in holiday dataset\n",
    "holiday = pd.read_csv('US Holiday Dates (2004-2021).csv')\n",
    "\n",
    "#look at first few rows\n",
    "holiday.head(10)"
   ]
  },
  {
   "cell_type": "code",
   "execution_count": 170,
   "id": "bca2a47b",
   "metadata": {},
   "outputs": [],
   "source": [
    "#perform left merge, then drop all extraneous columns\n",
    "uber = pd.merge(left=uber, right=holiday, left_on='pickup_date', right_on='Date', how='left')\n",
    "uber.drop(labels=['Date', 'WeekDay', 'Month', 'Day', 'Year'], axis=1, inplace=True)"
   ]
  },
  {
   "cell_type": "markdown",
   "id": "28f99d47",
   "metadata": {},
   "source": [
    "From here, we can simply define a new binary feature which has a value of $1$ whenever the ride occurred on a holiday, and has a value of $0$ otherwise."
   ]
  },
  {
   "cell_type": "code",
   "execution_count": 171,
   "id": "54e2a6cc",
   "metadata": {},
   "outputs": [],
   "source": [
    "import numpy as np\n",
    "\n",
    "#create binary feature indicating a holiday, then drop the column from the other dataset\n",
    "uber['holiday'] = np.where(uber['Holiday'].isnull(), 0, 1)\n",
    "uber = uber.drop(labels=['Holiday'], axis=1)"
   ]
  },
  {
   "cell_type": "markdown",
   "id": "a175722b",
   "metadata": {},
   "source": [
    "Our goal now is to extract useful features from the `pickup_date` and `pickup_time` columns. First, we separate out the date into year, month, and day of the month. Then, we can employ the `datetime` library to determine the day of the week for any given date. At the same time, we can discard all the information from `pickup_time` except for the hour, as the minutes and seconds have limited use."
   ]
  },
  {
   "cell_type": "code",
   "execution_count": 172,
   "id": "970b17f9",
   "metadata": {},
   "outputs": [],
   "source": [
    "import datetime\n",
    "\n",
    "#separate pickup_date into three columns\n",
    "uber[['year', 'month', 'day_of_month']] = uber.pickup_date.str.split(pat='-', expand=True).astype(int)\n",
    "uber.drop(labels='pickup_date', axis=1, inplace=True)\n",
    "\n",
    "#create column for day of week using datetime\n",
    "weekday = lambda row: datetime.date(row['year'], row['month'], row['day_of_month']).isoweekday()\n",
    "uber['day_of_week'] = uber.apply(weekday, axis=1)\n",
    "\n",
    "#discard minutes and seconds from pickup_time\n",
    "uber['time_of_day'] = uber.pickup_time.str.split(pat=':', expand=True).astype(int)[0]\n",
    "uber.drop(labels='pickup_time', axis=1, inplace=True)"
   ]
  },
  {
   "cell_type": "markdown",
   "id": "9fc2e92c",
   "metadata": {},
   "source": [
    "The time-based features should not be ordinal, because this implies an ordering which is not accurate. So, we implement a one-hot encoding for each of the time variables. Note that we make sure to set the parameter `drop_first=True` in order to avoid perfect collinearity."
   ]
  },
  {
   "cell_type": "code",
   "execution_count": 173,
   "id": "0c7cbb14",
   "metadata": {},
   "outputs": [],
   "source": [
    "#create one-hot encoding for time variables\n",
    "uber = pd.get_dummies(uber, dtype=float, \n",
    "                        columns=['year', 'month', 'day_of_month', 'day_of_week', 'time_of_day'], \n",
    "                        drop_first=True).astype(float)"
   ]
  },
  {
   "cell_type": "markdown",
   "id": "8467c426",
   "metadata": {},
   "source": [
    "The final step in our data preparation is to extract Euclidean distance between the start and end locations from the latitude and longitude of the two locations via the Haversine formula:\n",
    "$$\n",
    "d = 2R\\arcsin\\left(\\sqrt{\\sin^2\\left(\\frac{\\phi_2-\\phi_1}{2} \\right) + \\cos\\phi_1\\cos\\phi_2\\sin^2\\left(\\frac{\\lambda_2-\\lambda_1}{2} \\right)} \\right),\n",
    "$$\n",
    "where $R$ is the radius of the Earth, $\\phi$ is latitude, and $\\lambda$ is longitude."
   ]
  },
  {
   "cell_type": "code",
   "execution_count": 174,
   "id": "a4c57bc3",
   "metadata": {},
   "outputs": [],
   "source": [
    "import math\n",
    "\n",
    "#define function for haversine formula\n",
    "def haversine(lon1, lat1, lon2, lat2):\n",
    "\n",
    "    R = 6371000  # radius of Earth in meters\n",
    "    phi_1 = math.radians(lat1)\n",
    "    phi_2 = math.radians(lat2)\n",
    "\n",
    "    delta_phi = math.radians(lat2 - lat1)\n",
    "    delta_lambda = math.radians(lon2 - lon1)\n",
    "\n",
    "    a = math.sin(delta_phi / 2.0) ** 2 + math.cos(phi_1) * math.cos(phi_2) * math.sin(delta_lambda / 2.0) ** 2\n",
    "    \n",
    "    c = 2 * math.atan2(math.sqrt(a), math.sqrt(1 - a))\n",
    "\n",
    "    meters = R * c  # output distance in meters\n",
    "    return round(meters, 3)\n",
    "\n",
    "#create feature for euclidean distance\n",
    "eu_dist = lambda row: haversine(row.pickup_longitude, row.pickup_latitude, row.dropoff_longitude, row.dropoff_latitude)\n",
    "uber['euclid_dist'] = uber.apply(eu_dist, axis=1)"
   ]
  },
  {
   "cell_type": "markdown",
   "id": "6e546bab",
   "metadata": {},
   "source": [
    "# Fitting a Model to the Data\n",
    "\n",
    "We will fit multiple regression models to the data. First, we perform an $80\\%$-$20\\%$ train-test split."
   ]
  },
  {
   "cell_type": "code",
   "execution_count": 183,
   "id": "b9aa922d",
   "metadata": {},
   "outputs": [],
   "source": [
    "from sklearn.model_selection import train_test_split\n",
    "\n",
    "#separate out features from target\n",
    "X, y = uber.iloc[:, 1:].values, uber.iloc[:, 0].values\n",
    "\n",
    "#do 80-20 train-test split\n",
    "X_train, X_test, y_train, y_test = train_test_split(X, y, test_size=0.2, random_state=42)"
   ]
  },
  {
   "cell_type": "markdown",
   "id": "b55bb658",
   "metadata": {},
   "source": [
    "First, we fit a linear regression to the training data."
   ]
  },
  {
   "cell_type": "code",
   "execution_count": 185,
   "id": "c071e1bd",
   "metadata": {},
   "outputs": [
    {
     "name": "stdout",
     "output_type": "stream",
     "text": [
      "MSE train: 94.534, MSE test: 94.534\n",
      "MAE train: 5.933, MAE test: 5.97\n",
      "R^2 train: 0.021, R^2 test: 0.019\n"
     ]
    }
   ],
   "source": [
    "from sklearn.linear_model import LinearRegression\n",
    "from sklearn.metrics import mean_absolute_error\n",
    "from sklearn.metrics import mean_squared_error\n",
    "from sklearn.metrics import r2_score\n",
    "\n",
    "#instantiate linear regression object and fit to the training data\n",
    "slr = LinearRegression()\n",
    "slr.fit(X_train, y_train)\n",
    "\n",
    "#evaluate on test data\n",
    "y_train_pred = slr.predict(X_train)\n",
    "y_test_pred = slr.predict(X_test)\n",
    "mse_train = mean_squared_error(y_train, y_train_pred)\n",
    "mse_test = mean_squared_error(y_train, y_train_pred)\n",
    "mae_train = mean_absolute_error(y_train, y_train_pred)\n",
    "mae_test = mean_absolute_error(y_test, y_test_pred)\n",
    "r2_train = r2_score(y_train, y_train_pred)\n",
    "r2_test = r2_score(y_test, y_test_pred)\n",
    "print('MSE train: {tr}, MSE test: {te}'.format(tr=mse_train.round(3), te=mse_test.round(3)))\n",
    "print('MAE train: {tr}, MAE test: {te}'.format(tr=mae_train.round(3), te=mae_test.round(3)))\n",
    "print('R^2 train: {tr}, R^2 test: {te}'.format(tr=r2_train.round(3), te=r2_test.round(3)))"
   ]
  },
  {
   "cell_type": "markdown",
   "id": "765c1588",
   "metadata": {},
   "source": [
    "As we can see from the metrics above, the simple linear regression model fails to capture the variance in the training set, and performs even worse on the test set. We will create a residuals plot as well to analyze why the model may be performing so poorly."
   ]
  },
  {
   "cell_type": "code",
   "execution_count": 189,
   "id": "0cb84209",
   "metadata": {},
   "outputs": [
    {
     "data": {
      "image/png": "[encoded data removed]",
      "text/plain": [
       "<Figure size 700x300 with 2 Axes>"
      ]
     },
     "metadata": {},
     "output_type": "display_data"
    }
   ],
   "source": [
    "import matplotlib.pyplot as plt\n",
    "\n",
    "#make residuals plot\n",
    "x_max = np.max([np.max(y_train_pred), np.max(y_test_pred)])\n",
    "x_min = np.min([np.min(y_train_pred), np.min(y_test_pred)])\n",
    "\n",
    "fig, (ax1, ax2) = plt.subplots(1, 2, figsize=(7, 3), sharey=True)\n",
    "ax1.scatter(y_test_pred, y_test_pred - y_test, \n",
    "            c='limegreen', marker='s', \n",
    "            edgecolor='white', label='Test data')\n",
    "ax2.scatter(y_train_pred, y_train_pred - y_train, \n",
    "            c='steelblue', marker='o', \n",
    "            edgecolor='white', label='Training data')\n",
    "ax1.set_ylabel('Residuals')\n",
    "\n",
    "for ax in (ax1, ax2):\n",
    "    ax.set_xlabel('Predicted values')\n",
    "    ax.legend(loc='upper left')\n",
    "    ax.hlines(y=0, xmin=x_min-100, xmax=x_max+100, color='black', lw=2)\n",
    "\n",
    "plt.tight_layout()\n",
    "plt.show()"
   ]
  },
  {
   "cell_type": "markdown",
   "id": "9aaa279b",
   "metadata": {},
   "source": [
    "Ideally, the residuals would be exactly zero. In a real-world scenario, this will never happen. However, we do expect that, for a successful model, the residuals should be randomly distributed about the centerline. In other words, there should be no discernible pattern in the residuals plot. As we see above, the residuals follow clear patterns, so the linear regression model has failed to capture some of the explanatory information present in the training set.\n",
    "\n",
    "It's likely that there are nonlinear relationships in the data set that the simple model cannot explain. Below, we fit a random forest regressor, which is much more capable of capturing nonlinearities."
   ]
  },
  {
   "cell_type": "code",
   "execution_count": 190,
   "id": "532f2008",
   "metadata": {},
   "outputs": [
    {
     "name": "stdout",
     "output_type": "stream",
     "text": [
      "MSE train: 2.987, MSE test: 2.987\n",
      "MAE train: 0.733, MAE test: 1.997\n",
      "R^2 train: 0.969, R^2 test: 0.78\n"
     ]
    }
   ],
   "source": [
    "from sklearn.ensemble import RandomForestRegressor\n",
    "\n",
    "#fit model to data\n",
    "rfr = RandomForestRegressor(n_estimators=1000, criterion='squared_error', random_state=42, n_jobs=-1)\n",
    "rfr.fit(X_train, y_train)\n",
    "\n",
    "#evaluate performance on the test set\n",
    "y_train_pred = rfr.predict(X_train)\n",
    "y_test_pred = rfr.predict(X_test)\n",
    "mse_train = mean_squared_error(y_train, y_train_pred)\n",
    "mse_test = mean_squared_error(y_train, y_train_pred)\n",
    "mae_train = mean_absolute_error(y_train, y_train_pred)\n",
    "mae_test = mean_absolute_error(y_test, y_test_pred)\n",
    "r2_train = r2_score(y_train, y_train_pred)\n",
    "r2_test = r2_score(y_test, y_test_pred)\n",
    "print('MSE train: {tr}, MSE test: {te}'.format(tr=mse_train.round(3), te=mse_test.round(3)))\n",
    "print('MAE train: {tr}, MAE test: {te}'.format(tr=mae_train.round(3), te=mae_test.round(3)))\n",
    "print('R^2 train: {tr}, R^2 test: {te}'.format(tr=r2_train.round(3), te=r2_test.round(3)))"
   ]
  },
  {
   "cell_type": "markdown",
   "id": "90cc88b8",
   "metadata": {},
   "source": [
    "We can see by the metrics above that the random forest regressor does a much better job of explaining the variance present in the data set. Although it clearly overfits somewhat to the training set, the random forest regressor still achieves an $R^2$ value of $0.78$ on the test set, which is a massive improvement over the linear regression, which only achieved an $R^2$ value of $0.019$ on the test set."
   ]
  }
 ],
 "metadata": {
  "kernelspec": {
   "display_name": "Python 3 (ipykernel)",
   "language": "python",
   "name": "python3"
  },
  "language_info": {
   "codemirror_mode": {
    "name": "ipython",
    "version": 3
   },
   "file_extension": ".py",
   "mimetype": "text/x-python",
   "name": "python",
   "nbconvert_exporter": "python",
   "pygments_lexer": "ipython3",
   "version": "3.11.7"
  }
 },
 "nbformat": 4,
 "nbformat_minor": 5
}
